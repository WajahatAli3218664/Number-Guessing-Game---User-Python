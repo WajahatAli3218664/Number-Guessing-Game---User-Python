{
  "nbformat": 4,
  "nbformat_minor": 0,
  "metadata": {
    "colab": {
      "provenance": [],
      "authorship_tag": "ABX9TyOj50chHGGi48WCuMeHlG2Z",
      "include_colab_link": true
    },
    "kernelspec": {
      "name": "python3",
      "display_name": "Python 3"
    },
    "language_info": {
      "name": "python"
    }
  },
  "cells": [
    {
      "cell_type": "markdown",
      "metadata": {
        "id": "view-in-github",
        "colab_type": "text"
      },
      "source": [
        "<a href=\"https://colab.research.google.com/github/WajahatAli3218664/Number-Guessing-Game---User-Python/blob/main/Number_Guessing_Game_User.ipynb\" target=\"_parent\"><img src=\"https://colab.research.google.com/assets/colab-badge.svg\" alt=\"Open In Colab\"/></a>"
      ]
    },
    {
      "cell_type": "markdown",
      "source": [
        "# **Number Game Python Project User**"
      ],
      "metadata": {
        "id": "EO9RXXEw6Vh4"
      }
    },
    {
      "cell_type": "code",
      "source": [
        "# Project 3 - Guess the Number Game (User)\n",
        "# Instructor: Wajahat Ali\n",
        "\n",
        "import random\n",
        "\n",
        "print(\"Guess a number between 1 and 100!\")\n",
        "# Generate random number\n",
        "number = random.randint(1, 100)\n",
        "\n",
        "while True:\n",
        "    guess = int(input(\"Enter your guess number: \"))\n",
        "\n",
        "    if guess < number:\n",
        "        print(\"Too Low Number!\")\n",
        "    elif guess > number:  # Fixed indentation error\n",
        "        print(\"Too High Number!\")\n",
        "    else:\n",
        "        print(\"Congratulations! You Got it Right!\")\n",
        "        break\n",
        "\n",
        ""
      ],
      "metadata": {
        "colab": {
          "base_uri": "https://localhost:8080/"
        },
        "id": "lrknezX_GzEe",
        "outputId": "6f2a05dd-e70e-4b36-e5e8-44a1ff113c72"
      },
      "execution_count": 4,
      "outputs": [
        {
          "output_type": "stream",
          "name": "stdout",
          "text": [
            "Guess a number between 1 and 100!\n",
            "Enter your guess number: 79\n",
            "Too High Number!\n",
            "Enter your guess number: 75\n",
            "Too High Number!\n",
            "Enter your guess number: 56\n",
            "Too High Number!\n",
            "Enter your guess number: 34\n",
            "Too Low Number!\n",
            "Enter your guess number: 45\n",
            "Too High Number!\n",
            "Enter your guess number: 44\n",
            "Too High Number!\n",
            "Enter your guess number: 40\n",
            "Too High Number!\n",
            "Enter your guess number: 37\n",
            "Too Low Number!\n",
            "Enter your guess number: 39\n",
            "Too High Number!\n",
            "Enter your guess number: 38\n",
            "Congratulations! You Got it Right!\n"
          ]
        }
      ]
    }
  ]
}